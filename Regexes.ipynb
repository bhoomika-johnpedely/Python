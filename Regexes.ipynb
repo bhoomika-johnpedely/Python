{
 "cells": [
  {
   "cell_type": "code",
   "execution_count": 1,
   "id": "1a3db210",
   "metadata": {},
   "outputs": [],
   "source": [
    "import re"
   ]
  },
  {
   "cell_type": "code",
   "execution_count": 7,
   "id": "366ba999",
   "metadata": {},
   "outputs": [
    {
     "name": "stdout",
     "output_type": "stream",
     "text": [
      "What's your email? u1359966@utah.edu\n",
      "Valid\n"
     ]
    }
   ],
   "source": [
    "#Getting a valid email address\n",
    "email = input(\"What's your email? \").strip()\n",
    "\n",
    "if re.search(r\"^\\w+@(\\w+\\.)?\\w+\\.edu$\", email, re.IGNORECASE):\n",
    "    print(\"Valid\")\n",
    "else:\n",
    "    print(\"Invalid\")"
   ]
  },
  {
   "cell_type": "code",
   "execution_count": 9,
   "id": "80c50e01",
   "metadata": {},
   "outputs": [
    {
     "name": "stdout",
     "output_type": "stream",
     "text": [
      "URL: https://twitter.com/realDonaldTrump\n",
      "Username: realDonaldTrump\n"
     ]
    }
   ],
   "source": [
    "#Ignores query and fragment\n",
    "url = input(\"URL: \").strip()\n",
    "\n",
    "matches = re.search(r\"^https?://(?:www\\.)?twitter\\.com/([a-z0-9_]+)\", url, re.IGNORECASE)\n",
    "if matches:\n",
    "    print(\"Username:\", matches.group(1))\n"
   ]
  }
 ],
 "metadata": {
  "kernelspec": {
   "display_name": "Python 3 (ipykernel)",
   "language": "python",
   "name": "python3"
  },
  "language_info": {
   "codemirror_mode": {
    "name": "ipython",
    "version": 3
   },
   "file_extension": ".py",
   "mimetype": "text/x-python",
   "name": "python",
   "nbconvert_exporter": "python",
   "pygments_lexer": "ipython3",
   "version": "3.11.3"
  }
 },
 "nbformat": 4,
 "nbformat_minor": 5
}
