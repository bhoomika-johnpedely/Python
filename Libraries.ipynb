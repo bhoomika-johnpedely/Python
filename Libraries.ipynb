{
 "cells": [
  {
   "cell_type": "markdown",
   "id": "a9c420ce",
   "metadata": {},
   "source": [
    "Exploring libraries: random, statistics, sys, requests, json"
   ]
  },
  {
   "cell_type": "code",
   "execution_count": 25,
   "id": "cfff7557",
   "metadata": {},
   "outputs": [],
   "source": [
    "import random"
   ]
  },
  {
   "cell_type": "code",
   "execution_count": 4,
   "id": "e518256f",
   "metadata": {},
   "outputs": [
    {
     "name": "stdout",
     "output_type": "stream",
     "text": [
      "tails\n"
     ]
    }
   ],
   "source": [
    "coin = choice(['heads','tails'])\n",
    "print(coin)"
   ]
  },
  {
   "cell_type": "code",
   "execution_count": 24,
   "id": "2ff4a778",
   "metadata": {},
   "outputs": [
    {
     "name": "stdout",
     "output_type": "stream",
     "text": [
      "6\n"
     ]
    }
   ],
   "source": [
    "number = random.randint(1,10)\n",
    "print(number)"
   ]
  },
  {
   "cell_type": "code",
   "execution_count": 34,
   "id": "2131c3a2",
   "metadata": {},
   "outputs": [
    {
     "name": "stdout",
     "output_type": "stream",
     "text": [
      "king\n",
      "queen\n",
      "jack\n"
     ]
    }
   ],
   "source": [
    "cards = [\"jack\",\"queen\",\"king\"]\n",
    "\n",
    "random.shuffle(cards)\n",
    "for card in cards:\n",
    "    print(card)"
   ]
  },
  {
   "cell_type": "code",
   "execution_count": 35,
   "id": "531d6dfa",
   "metadata": {},
   "outputs": [],
   "source": [
    "import statistics"
   ]
  },
  {
   "cell_type": "code",
   "execution_count": 37,
   "id": "c737b2ae",
   "metadata": {},
   "outputs": [
    {
     "name": "stdout",
     "output_type": "stream",
     "text": [
      "88.5\n"
     ]
    }
   ],
   "source": [
    "print(statistics.mean([100,90,80,75,96,90]))"
   ]
  },
  {
   "cell_type": "code",
   "execution_count": 38,
   "id": "9204ed2e",
   "metadata": {},
   "outputs": [],
   "source": [
    "import sys"
   ]
  },
  {
   "cell_type": "code",
   "execution_count": 41,
   "id": "ac90d040",
   "metadata": {},
   "outputs": [
    {
     "name": "stdout",
     "output_type": "stream",
     "text": [
      "hello, my name is  -f\n"
     ]
    }
   ],
   "source": [
    "#This works in a CLI. Enter the name along with the name of the program\n",
    "try:\n",
    "    print(\"hello, my name is \", sys.argv[1])\n",
    "except IndexError:\n",
    "    print(\"Too few arguements\")"
   ]
  },
  {
   "cell_type": "code",
   "execution_count": 46,
   "id": "3afbca34",
   "metadata": {},
   "outputs": [],
   "source": [
    "import requests\n",
    "import json"
   ]
  },
  {
   "cell_type": "code",
   "execution_count": 51,
   "id": "011f36a3",
   "metadata": {},
   "outputs": [
    {
     "name": "stdout",
     "output_type": "stream",
     "text": [
      "Name an artist: the beatles\n",
      "The Beatles\n",
      "The Beatles\n",
      "The Beatles\n",
      "The Beatles\n",
      "Bigger Than the Beatles\n",
      "Hey Jude\n",
      "Blackbird\n",
      "Birthday\n",
      "She Likes the Beatles\n",
      "Ob-La-Di, Ob-La-Da\n",
      "Black Beatles (feat. Gucci Mane)\n",
      "While My Guitar Gently Weeps\n",
      "Yesterday\n",
      "Revolution\n",
      "Don't Let Me Down\n",
      "All You Need Is Love\n",
      "Here Comes the Sun\n",
      "Strawberry Fields Forever\n",
      "The Beatles\n",
      "Let It Be\n",
      "Ob-La-Di, Ob-La-Da\n",
      "Back In the U.S.S.R.\n",
      "Penny Lane\n",
      "I Will\n",
      "Here Comes the Sun (Glee Cast Version) [feat. Demi Lovato]\n",
      "Rocky Raccoon\n",
      "Come Together\n",
      "Dear Prudence\n",
      "The Long and Winding Road\n",
      "I Am the Walrus\n",
      "With a Little Help From My Friends\n",
      "Get Back\n",
      "Helter Skelter\n",
      "Across the Universe\n",
      "Hello, Goodbye\n",
      "A Day In the Life\n",
      "Something\n",
      "Lucy In the Sky with Diamonds\n",
      "While My Guitar Gently Weeps\n",
      "In My Life\n",
      "I Want to Hold Your Hand\n",
      "The Ballad of John and Yoko\n",
      "Back In the U.S.S.R.\n",
      "The Fool On the Hill\n",
      "Lady Madonna\n",
      "Sgt. Pepper's Lonely Hearts Club Band\n",
      "The Beatles\n",
      "Octopus's Garden\n",
      "All My Loving\n",
      "Magical Mystery Tour\n"
     ]
    }
   ],
   "source": [
    "band_name = input(\"Name an artist: \")\n",
    "\n",
    "response = requests.get(\"https://itunes.apple.com/search?entity=song&limit=50&term=\" + band_name)\n",
    "\n",
    "o = response.json()\n",
    "for result in o[\"results\"]:\n",
    "    print(result[\"trackName\"])"
   ]
  }
 ],
 "metadata": {
  "kernelspec": {
   "display_name": "Python 3 (ipykernel)",
   "language": "python",
   "name": "python3"
  },
  "language_info": {
   "codemirror_mode": {
    "name": "ipython",
    "version": 3
   },
   "file_extension": ".py",
   "mimetype": "text/x-python",
   "name": "python",
   "nbconvert_exporter": "python",
   "pygments_lexer": "ipython3",
   "version": "3.11.3"
  }
 },
 "nbformat": 4,
 "nbformat_minor": 5
}
