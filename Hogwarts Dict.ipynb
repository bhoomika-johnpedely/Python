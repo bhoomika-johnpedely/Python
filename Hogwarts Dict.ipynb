{
 "cells": [
  {
   "cell_type": "markdown",
   "id": "68ffb4f0",
   "metadata": {},
   "source": [
    "Creating and printing the contents of a dict"
   ]
  },
  {
   "cell_type": "code",
   "execution_count": 1,
   "id": "6773b663",
   "metadata": {},
   "outputs": [
    {
     "name": "stdout",
     "output_type": "stream",
     "text": [
      "Hermoine, Gryffindor, Otter\n",
      "Harry, Gryffindor, Stag\n",
      "Ron, Gryffindor, Jack Russel Terrier\n",
      "Draco, Gryffindor, None\n"
     ]
    }
   ],
   "source": [
    "students = [\n",
    "    {\"name\":\"Hermoine\",\"house\":\"Gryffindor\",\"patronus\":\"Otter\"},\n",
    "    {\"name\":\"Harry\",\"house\":\"Gryffindor\",\"patronus\":\"Stag\"},\n",
    "    {\"name\":\"Ron\",\"house\":\"Gryffindor\",\"patronus\":\"Jack Russel Terrier\"},\n",
    "    {\"name\":\"Draco\",\"house\":\"Gryffindor\",\"patronus\":None}\n",
    "]\n",
    "\n",
    "for i in students:\n",
    "    print(i[\"name\"],i[\"house\"],i[\"patronus\"],sep=\", \")"
   ]
  }
 ],
 "metadata": {
  "kernelspec": {
   "display_name": "Python 3 (ipykernel)",
   "language": "python",
   "name": "python3"
  },
  "language_info": {
   "codemirror_mode": {
    "name": "ipython",
    "version": 3
   },
   "file_extension": ".py",
   "mimetype": "text/x-python",
   "name": "python",
   "nbconvert_exporter": "python",
   "pygments_lexer": "ipython3",
   "version": "3.11.3"
  }
 },
 "nbformat": 4,
 "nbformat_minor": 5
}
