{
 "cells": [
  {
   "cell_type": "markdown",
   "id": "ddeabc30",
   "metadata": {},
   "source": [
    "This program asks user for a width and height, and prints a rectangle of those dimensions."
   ]
  },
  {
   "cell_type": "code",
   "execution_count": 1,
   "id": "a8882d84",
   "metadata": {},
   "outputs": [
    {
     "name": "stdout",
     "output_type": "stream",
     "text": [
      "width:10\n",
      "height:20\n",
      "##########\n",
      "##########\n",
      "##########\n",
      "##########\n",
      "##########\n",
      "##########\n",
      "##########\n",
      "##########\n",
      "##########\n",
      "##########\n",
      "##########\n",
      "##########\n",
      "##########\n",
      "##########\n",
      "##########\n",
      "##########\n",
      "##########\n",
      "##########\n",
      "##########\n",
      "##########\n",
      "\n",
      "None\n"
     ]
    }
   ],
   "source": [
    "def main():\n",
    "    get_width = int(input(\"width:\"))\n",
    "    get_height = int(input(\"height:\"))\n",
    "    print(rectangle(get_width, get_height))\n",
    "\n",
    "\n",
    "def rectangle(width, height):\n",
    "    for i in range(height):\n",
    "        print(\"#\" * width, sep = \"\")\n",
    "    print()\n",
    "\n",
    "main()"
   ]
  }
 ],
 "metadata": {
  "kernelspec": {
   "display_name": "Python 3 (ipykernel)",
   "language": "python",
   "name": "python3"
  },
  "language_info": {
   "codemirror_mode": {
    "name": "ipython",
    "version": 3
   },
   "file_extension": ".py",
   "mimetype": "text/x-python",
   "name": "python",
   "nbconvert_exporter": "python",
   "pygments_lexer": "ipython3",
   "version": "3.11.3"
  }
 },
 "nbformat": 4,
 "nbformat_minor": 5
}
