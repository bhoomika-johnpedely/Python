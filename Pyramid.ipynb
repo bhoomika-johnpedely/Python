{
 "cells": [
  {
   "cell_type": "markdown",
   "id": "cd036f01",
   "metadata": {},
   "source": [
    "This program asks for a height and prints a right triangle of that height."
   ]
  },
  {
   "cell_type": "code",
   "execution_count": 1,
   "id": "e5a79da8",
   "metadata": {},
   "outputs": [
    {
     "name": "stdout",
     "output_type": "stream",
     "text": [
      "Height: 20\n",
      "#\n",
      "##\n",
      "###\n",
      "####\n",
      "#####\n",
      "######\n",
      "#######\n",
      "########\n",
      "#########\n",
      "##########\n",
      "###########\n",
      "############\n",
      "#############\n",
      "##############\n",
      "###############\n",
      "################\n",
      "#################\n",
      "##################\n",
      "###################\n",
      "####################\n"
     ]
    }
   ],
   "source": [
    "def main():\n",
    "    height = int(input(\"Height: \"))\n",
    "    pyramid(height)\n",
    "\n",
    "def pyramid(n):\n",
    "    for i in range(n):\n",
    "        print(\"#\" * (i + 1))\n",
    "\n",
    "if __name__ == \"__main__\":\n",
    "    main()"
   ]
  }
 ],
 "metadata": {
  "kernelspec": {
   "display_name": "Python 3 (ipykernel)",
   "language": "python",
   "name": "python3"
  },
  "language_info": {
   "codemirror_mode": {
    "name": "ipython",
    "version": 3
   },
   "file_extension": ".py",
   "mimetype": "text/x-python",
   "name": "python",
   "nbconvert_exporter": "python",
   "pygments_lexer": "ipython3",
   "version": "3.11.3"
  }
 },
 "nbformat": 4,
 "nbformat_minor": 5
}
